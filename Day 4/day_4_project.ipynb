{
 "cells": [
  {
   "cell_type": "code",
   "execution_count": 1,
   "metadata": {},
   "outputs": [],
   "source": [
    "import pandas as pd\n",
    "import datetime\n",
    "import sqlite3\n",
    "import time\n",
    "import re\n",
    "import calendar\n",
    "import schedule"
   ]
  },
  {
   "cell_type": "markdown",
   "metadata": {},
   "source": [
    "## Setting Up Database\n",
    "- Download the database for project from [here](https://drive.google.com/file/d/1TD0mjsv-Vkz7JKGXCikGf65OYzeamiL2/view?usp=sharing)\n",
    "- Check the table names in the database. There should be two tables:\n",
    "    - transactions\n",
    "    - transactions_clean"
   ]
  },
  {
   "cell_type": "code",
   "execution_count": 2,
   "metadata": {},
   "outputs": [],
   "source": [
    "## Create the connection to SQL Lite\n",
    "def create_connection(db_file):\n",
    "    \"\"\" create a database connection to the SQLite database\n",
    "        specified by db_file\n",
    "    :param db_file: database file\n",
    "    :return: Connection object or None\n",
    "    \"\"\"\n",
    "    conn = None\n",
    "    try:\n",
    "        conn = sqlite3.connect(db_file)\n",
    "        return conn\n",
    "    except Error as e:\n",
    "        print(e)\n",
    "\n",
    "    return conn"
   ]
  },
  {
   "cell_type": "code",
   "execution_count": 3,
   "metadata": {},
   "outputs": [],
   "source": [
    "con = create_connection(\"project (1).db\")"
   ]
  },
  {
   "cell_type": "code",
   "execution_count": 4,
   "metadata": {},
   "outputs": [
    {
     "data": {
      "text/html": [
       "<div>\n",
       "<style scoped>\n",
       "    .dataframe tbody tr th:only-of-type {\n",
       "        vertical-align: middle;\n",
       "    }\n",
       "\n",
       "    .dataframe tbody tr th {\n",
       "        vertical-align: top;\n",
       "    }\n",
       "\n",
       "    .dataframe thead th {\n",
       "        text-align: right;\n",
       "    }\n",
       "</style>\n",
       "<table border=\"1\" class=\"dataframe\">\n",
       "  <thead>\n",
       "    <tr style=\"text-align: right;\">\n",
       "      <th></th>\n",
       "      <th>type</th>\n",
       "      <th>name</th>\n",
       "    </tr>\n",
       "  </thead>\n",
       "  <tbody>\n",
       "    <tr>\n",
       "      <th>0</th>\n",
       "      <td>table</td>\n",
       "      <td>transactions</td>\n",
       "    </tr>\n",
       "    <tr>\n",
       "      <th>1</th>\n",
       "      <td>table</td>\n",
       "      <td>transactions_clean</td>\n",
       "    </tr>\n",
       "    <tr>\n",
       "      <th>2</th>\n",
       "      <td>table</td>\n",
       "      <td>monthly_transaction_report</td>\n",
       "    </tr>\n",
       "    <tr>\n",
       "      <th>3</th>\n",
       "      <td>table</td>\n",
       "      <td>monthly_agent_report</td>\n",
       "    </tr>\n",
       "    <tr>\n",
       "      <th>4</th>\n",
       "      <td>table</td>\n",
       "      <td>monthly_product_report</td>\n",
       "    </tr>\n",
       "  </tbody>\n",
       "</table>\n",
       "</div>"
      ],
      "text/plain": [
       "    type                        name\n",
       "0  table                transactions\n",
       "1  table          transactions_clean\n",
       "2  table  monthly_transaction_report\n",
       "3  table        monthly_agent_report\n",
       "4  table      monthly_product_report"
      ]
     },
     "execution_count": 4,
     "metadata": {},
     "output_type": "execute_result"
    }
   ],
   "source": [
    "cursor = con.cursor()\n",
    "\n",
    "res = cursor.execute(\"SELECT type, name FROM sqlite_master WHERE type='table'\").fetchall()\n",
    "all_tables = pd.DataFrame(res)\n",
    "all_tables.columns = [\"type\",\"name\"]\n",
    "all_tables"
   ]
  },
  {
   "cell_type": "code",
   "execution_count": 5,
   "metadata": {},
   "outputs": [],
   "source": [
    "transactions_raw_to_add = pd.read_sql(\"SELECT * FROM transactions\", con)"
   ]
  },
  {
   "cell_type": "code",
   "execution_count": 6,
   "metadata": {},
   "outputs": [],
   "source": [
    "transactions_clean = pd.read_sql(\"SELECT * FROM transactions_clean\", con)"
   ]
  },
  {
   "cell_type": "markdown",
   "metadata": {},
   "source": [
    "## On the job scenario:\n",
    "\n",
    "The **transactions** table in **project.db** contains transactions from 2019-01-01 to 2020-06-17. This table contains original (raw) data. The data for the period before 2020-01-01 was already cleaned and is stored in the same database, but in the separate table **transactions_clean** (Transaction Date < '2020-01-01').\n",
    "\n",
    "Imagine that an ETL process uploads new transaction data (the year 2020) every month to the table transactions.\n",
    "\n",
    "\n",
    "\n",
    "\n",
    "### Task I: Leverage both SQL and Python to extract and clean data using data wrangling techniques\n",
    "\n",
    "Create the python program that pulls the \"new\" data from the database and removes unnecessary columns. The program should run monthly. For example:\n",
    "\n",
    "- On 1st of February 2020, it should take data where Transaction Date is between **'2020-01-01'** and **'2020-01-31'**\n",
    "- On 1st of March 2020, it should take data where Transaction Date is between **'2020-02-01'** and **'2020-02-29'**\n",
    "\n",
    "\n",
    "The following columns are unnecessary and should be removed:\n",
    "\n",
    "1. Columns that are completely empty (should be 4 columns)\n",
    "2. Constant columns (Policy Level Rate, Is Processed, New To Medicare, Company Business Unit Code)\n",
    "3. IDs and Names (should be 2 columns)\n",
    "4. Remove other redundant columns: Carrier Group and Product Code\n",
    "\n",
    "The final dataframe should have 18 columns.\n",
    " \n",
    " "
   ]
  },
  {
   "cell_type": "markdown",
   "metadata": {},
   "source": [
    "## Clean The Raw Transactions File"
   ]
  },
  {
   "cell_type": "code",
   "execution_count": 7,
   "metadata": {},
   "outputs": [],
   "source": [
    "# Remove the NA columns and Remove Columns that are not needed \n",
    "new_transactions_clean_to_add = transactions_raw_to_add.dropna(how='all', axis=1)\\\n",
    ".drop([\"Policy Level Rate\", \"Is Processed\", \"New To Medicare\", \"Company Business Unit Code\",\n",
    "       \"Insured Name\",\"CarrierCommissionID\",\"Carrier Group\",\"Product Code\"], axis=1)"
   ]
  },
  {
   "cell_type": "code",
   "execution_count": 8,
   "metadata": {},
   "outputs": [
    {
     "name": "stdout",
     "output_type": "stream",
     "text": [
      "Carrier                             object\n",
      "Policy #                            object\n",
      "Effective Date                      object\n",
      "Transaction Date                    object\n",
      "Due Date                            object\n",
      "Premium                            float64\n",
      "Commissionable Premium             float64\n",
      "Revenue                            float64\n",
      "Transaction Code                    object\n",
      "Policy Year                         object\n",
      "State                               object\n",
      "ProductName                         object\n",
      "Agent Code                          object\n",
      "Product Type Name                   object\n",
      "Total Commission                   float64\n",
      "Insert Date                         object\n",
      "Date Entered                        object\n",
      "Carrier Transaction Description     object\n",
      "dtype: object\n"
     ]
    },
    {
     "data": {
      "text/plain": [
       "Carrier                             object\n",
       "Policy #                            object\n",
       "Effective Date                      object\n",
       "Transaction Date                    object\n",
       "Due Date                            object\n",
       "Premium                            float64\n",
       "Commissionable Premium             float64\n",
       "Revenue                            float64\n",
       "Transaction Code                    object\n",
       "Policy Year                         object\n",
       "State                               object\n",
       "ProductName                         object\n",
       "Agent Code                          object\n",
       "Product Type Name                   object\n",
       "Total Commission                   float64\n",
       "Insert Date                         object\n",
       "Date Entered                        object\n",
       "Carrier Transaction Description     object\n",
       "dtype: object"
      ]
     },
     "execution_count": 8,
     "metadata": {},
     "output_type": "execute_result"
    }
   ],
   "source": [
    "# Check the column names match from the raw transactions dataset and the cleaned dataset\n",
    "print(new_transactions_clean_to_add.dtypes)\n",
    "transactions_clean.dtypes"
   ]
  },
  {
   "cell_type": "code",
   "execution_count": 9,
   "metadata": {},
   "outputs": [
    {
     "name": "stdout",
     "output_type": "stream",
     "text": [
      "Effective Date      datetime64[ns]\n",
      "Transaction Date    datetime64[ns]\n",
      "Due Date            datetime64[ns]\n",
      "Date Entered        datetime64[ns]\n",
      "dtype: object\n",
      "Effective Date      datetime64[ns]\n",
      "Transaction Date    datetime64[ns]\n",
      "Due Date            datetime64[ns]\n",
      "Date Entered        datetime64[ns]\n",
      "dtype: object\n"
     ]
    }
   ],
   "source": [
    "## Change the date columns in both datasets to be datetime objects\n",
    "\n",
    "dates_col = [\"Effective Date\",\"Transaction Date\",\"Due Date\",\"Date Entered\"]\n",
    "\n",
    "for i in dates_col:\n",
    "    new_transactions_clean_to_add[i] = pd.to_datetime(new_transactions_clean_to_add[i], format='%Y-%m-%d')\n",
    "    transactions_clean[i] = pd.to_datetime(transactions_clean[i], format='%Y-%m-%d')\n",
    "\n",
    "## Check to see if the data types were changed\n",
    "print(new_transactions_clean_to_add[dates_col].dtypes)\n",
    "print(transactions_clean[dates_col].dtypes)"
   ]
  },
  {
   "cell_type": "code",
   "execution_count": 10,
   "metadata": {},
   "outputs": [
    {
     "name": "stdout",
     "output_type": "stream",
     "text": [
      "28492    2019-12\n",
      "Name: Transaction Date, dtype: object\n",
      "28445    2019-01\n",
      "28449    2019-02\n",
      "28451    2019-03\n",
      "28455    2019-04\n",
      "28459    2019-05\n",
      "28465    2019-06\n",
      "17789    2019-07\n",
      "28470    2019-08\n",
      "17788    2019-09\n",
      "0        2019-10\n",
      "2        2019-11\n",
      "Name: Transaction Date, dtype: object\n"
     ]
    },
    {
     "data": {
      "text/html": [
       "<div>\n",
       "<style scoped>\n",
       "    .dataframe tbody tr th:only-of-type {\n",
       "        vertical-align: middle;\n",
       "    }\n",
       "\n",
       "    .dataframe tbody tr th {\n",
       "        vertical-align: top;\n",
       "    }\n",
       "\n",
       "    .dataframe thead th {\n",
       "        text-align: right;\n",
       "    }\n",
       "</style>\n",
       "<table border=\"1\" class=\"dataframe\">\n",
       "  <thead>\n",
       "    <tr style=\"text-align: right;\">\n",
       "      <th></th>\n",
       "      <th>Carrier</th>\n",
       "      <th>Policy #</th>\n",
       "      <th>Effective Date</th>\n",
       "      <th>Transaction Date</th>\n",
       "      <th>Due Date</th>\n",
       "      <th>Premium</th>\n",
       "      <th>Commissionable Premium</th>\n",
       "      <th>Revenue</th>\n",
       "      <th>Transaction Code</th>\n",
       "      <th>Policy Year</th>\n",
       "      <th>State</th>\n",
       "      <th>ProductName</th>\n",
       "      <th>Agent Code</th>\n",
       "      <th>Product Type Name</th>\n",
       "      <th>Total Commission</th>\n",
       "      <th>Insert Date</th>\n",
       "      <th>Date Entered</th>\n",
       "      <th>Carrier Transaction Description</th>\n",
       "      <th>month_year</th>\n",
       "    </tr>\n",
       "  </thead>\n",
       "  <tbody>\n",
       "    <tr>\n",
       "      <th>0</th>\n",
       "      <td>Union Security Insurance Company</td>\n",
       "      <td>USC0000087</td>\n",
       "      <td>2018-09-15</td>\n",
       "      <td>2019-10-30</td>\n",
       "      <td>2020-01-15</td>\n",
       "      <td>NaN</td>\n",
       "      <td>237.62</td>\n",
       "      <td>16.63</td>\n",
       "      <td>Comm Override</td>\n",
       "      <td>Renewal Business</td>\n",
       "      <td>KY</td>\n",
       "      <td>Mod MS Plan G</td>\n",
       "      <td>USW0000408</td>\n",
       "      <td>Medicare Supplement</td>\n",
       "      <td>16.63</td>\n",
       "      <td>00:39.2</td>\n",
       "      <td>2019-11-13</td>\n",
       "      <td>Commission Override</td>\n",
       "      <td>2019-10</td>\n",
       "    </tr>\n",
       "    <tr>\n",
       "      <th>1</th>\n",
       "      <td>Union Security Insurance Company</td>\n",
       "      <td>USC0000087</td>\n",
       "      <td>2018-09-15</td>\n",
       "      <td>2019-10-30</td>\n",
       "      <td>2020-03-15</td>\n",
       "      <td>NaN</td>\n",
       "      <td>237.62</td>\n",
       "      <td>16.63</td>\n",
       "      <td>Comm Override</td>\n",
       "      <td>Renewal Business</td>\n",
       "      <td>KY</td>\n",
       "      <td>Mod MS Plan G</td>\n",
       "      <td>USW0000408</td>\n",
       "      <td>Medicare Supplement</td>\n",
       "      <td>16.63</td>\n",
       "      <td>00:39.2</td>\n",
       "      <td>2019-11-13</td>\n",
       "      <td>Commission Override</td>\n",
       "      <td>2019-10</td>\n",
       "    </tr>\n",
       "  </tbody>\n",
       "</table>\n",
       "</div>"
      ],
      "text/plain": [
       "                            Carrier    Policy # Effective Date  \\\n",
       "0  Union Security Insurance Company  USC0000087     2018-09-15   \n",
       "1  Union Security Insurance Company  USC0000087     2018-09-15   \n",
       "\n",
       "  Transaction Date   Due Date  Premium  Commissionable Premium  Revenue  \\\n",
       "0       2019-10-30 2020-01-15      NaN                  237.62    16.63   \n",
       "1       2019-10-30 2020-03-15      NaN                  237.62    16.63   \n",
       "\n",
       "  Transaction Code       Policy Year State    ProductName  Agent Code  \\\n",
       "0    Comm Override  Renewal Business    KY  Mod MS Plan G  USW0000408   \n",
       "1    Comm Override  Renewal Business    KY  Mod MS Plan G  USW0000408   \n",
       "\n",
       "     Product Type Name  Total Commission Insert Date Date Entered  \\\n",
       "0  Medicare Supplement             16.63     00:39.2   2019-11-13   \n",
       "1  Medicare Supplement             16.63     00:39.2   2019-11-13   \n",
       "\n",
       "  Carrier Transaction Description month_year  \n",
       "0             Commission Override    2019-10  \n",
       "1             Commission Override    2019-10  "
      ]
     },
     "execution_count": 10,
     "metadata": {},
     "output_type": "execute_result"
    }
   ],
   "source": [
    "## Create a new column in both datasets to find the year-month combination of Transaction Date\n",
    "# months_in_cleaned = pd.to_datetime(transactions_clean['Transaction Date']).dt.to_period('M').drop_duplicates()\n",
    "months_in_cleaned = transactions_clean['Transaction Date'].dt.strftime('%Y-%m').drop_duplicates().sort_values()\n",
    "\n",
    "# Store the last month so I can filter it out of the cleaned transaction dataframe\n",
    "last_month = months_in_cleaned[-1:]\n",
    "print(last_month)\n",
    "\n",
    "# Remove the last month from the filtering list, since it's possible for transactions from the same month in the total transactions dataframe\n",
    "months_in_cleaned = months_in_cleaned[:-1]\n",
    "print(months_in_cleaned)\n",
    "\n",
    "## Creating year-month combination of Transaction Date for full transactions dataframe\n",
    "new_transactions_clean_to_add['month_year'] = new_transactions_clean_to_add['Transaction Date'].dt.strftime('%Y-%m')\n",
    "new_transactions_clean_to_add.head(2)"
   ]
  },
  {
   "cell_type": "code",
   "execution_count": 11,
   "metadata": {
    "scrolled": false
   },
   "outputs": [
    {
     "data": {
      "text/plain": [
       "array(['2019-12', '2020-01', '2020-02', '2020-03', '2020-04', '2020-05',\n",
       "       '2020-06'], dtype=object)"
      ]
     },
     "execution_count": 11,
     "metadata": {},
     "output_type": "execute_result"
    }
   ],
   "source": [
    "## Filter out the dates that are already found in the already cleaned transactions dataset\n",
    "transactions_to_clean_and_append = new_transactions_clean_to_add[~new_transactions_clean_to_add[\"month_year\"].isin(months_in_cleaned)]\n",
    "\n",
    "## Print the dates not in the already cleaned dataset. This dataset needs to be cleaned and appended to the already cleaned dataframe\n",
    "transactions_to_clean_and_append[\"month_year\"].unique()"
   ]
  },
  {
   "cell_type": "code",
   "execution_count": 12,
   "metadata": {},
   "outputs": [
    {
     "name": "stdout",
     "output_type": "stream",
     "text": [
      "28492    False\n",
      "Name: Transaction Date, dtype: bool\n"
     ]
    }
   ],
   "source": [
    "# Remove all entries from the last month of transactions_clean so we can reaggregate for potenial missing data\n",
    "transactions_clean['month_year'] = transactions_clean['Transaction Date'].dt.strftime('%Y-%m')\n",
    "transactions_clean = transactions_clean[~transactions_clean['month_year'].isin(last_month)]\n",
    "\n",
    "# Check to see if the last month is in the list of month years from transaction_clean\n",
    "print(last_month.isin(list(set(transactions_clean[\"month_year\"]))))"
   ]
  },
  {
   "cell_type": "markdown",
   "metadata": {},
   "source": [
    "\n",
    "### Task II: Create a Python script that cleans data and appends it to the appropriate table in the database\n",
    "\n",
    "Create a python program that checks and cleans the output of Task I and stores it (appends) in the table **transactions_clean**.\n",
    "\n",
    "- The column that requires our attention is **Transaction Code**. Its values are not consistent, using both upper and lower cases to represent the same thing.\n",
    "\n",
    " "
   ]
  },
  {
   "cell_type": "code",
   "execution_count": 13,
   "metadata": {},
   "outputs": [
    {
     "name": "stdout",
     "output_type": "stream",
     "text": [
      "['override' 'Comm Override' 'Chargeback' 'comm override' 'Adjustment'\n",
      " 'Commission' 'Override' 'Policy Fee' 'ChargeBack' 'adjustment' 'RR']\n",
      "11\n",
      "['override' 'comm override' 'chargeback' 'adjustment' 'commission'\n",
      " 'policy fee' 'rr']\n",
      "7\n"
     ]
    },
    {
     "name": "stderr",
     "output_type": "stream",
     "text": [
      "<ipython-input-13-3c334db9dc30>:8: SettingWithCopyWarning: \n",
      "A value is trying to be set on a copy of a slice from a DataFrame.\n",
      "Try using .loc[row_indexer,col_indexer] = value instead\n",
      "\n",
      "See the caveats in the documentation: https://pandas.pydata.org/pandas-docs/stable/user_guide/indexing.html#returning-a-view-versus-a-copy\n",
      "  transactions_to_clean_and_append[\"Transaction Code\"] = new_transactions_clean_to_add[\"Transaction Code\"].str.lower()\n"
     ]
    }
   ],
   "source": [
    "## Look at the different values in Transaction Code and edit the Transaction Code column into lowercase\n",
    "\n",
    "# See the different values in Transaction Code and how many values there are \n",
    "print(transactions_to_clean_and_append[\"Transaction Code\"].unique())\n",
    "print(transactions_to_clean_and_append[\"Transaction Code\"].nunique())\n",
    "\n",
    "# Change Transaction Code into lowercase and see how many values there are\n",
    "transactions_to_clean_and_append[\"Transaction Code\"] = new_transactions_clean_to_add[\"Transaction Code\"].str.lower()\n",
    "print(transactions_to_clean_and_append[\"Transaction Code\"].unique())\n",
    "print(transactions_to_clean_and_append[\"Transaction Code\"].nunique())"
   ]
  },
  {
   "cell_type": "code",
   "execution_count": 14,
   "metadata": {},
   "outputs": [],
   "source": [
    "## Append the newly cleaned transactions to the already cleaned transactions\n",
    "frames = [transactions_clean, transactions_to_clean_and_append]\n",
    "transactions_clean_for_reporting = pd.concat(frames)"
   ]
  },
  {
   "cell_type": "code",
   "execution_count": 15,
   "metadata": {},
   "outputs": [
    {
     "name": "stdout",
     "output_type": "stream",
     "text": [
      "712127\n"
     ]
    },
    {
     "data": {
      "text/plain": [
       "712127"
      ]
     },
     "execution_count": 15,
     "metadata": {},
     "output_type": "execute_result"
    }
   ],
   "source": [
    "## Check the number of rows in the already cleaned dataset + new rows = number of rows from total transactions \n",
    "print(len(transactions_clean_for_reporting))\n",
    "len(new_transactions_clean_to_add)"
   ]
  },
  {
   "cell_type": "markdown",
   "metadata": {},
   "source": [
    "### Task III: Extract data and create a report using Python\n",
    "\n",
    "We are working on the monthly reports. The reports should be exported in Excel and stored in the database tables. We will be using data in transactions_clean. We should pull the data based on the **Transaction Date**. For example:\n",
    "\n",
    "- On 1st of April, 2020 it should take data where Transaction Date is between **'2020-03-01'** and **'2020-03-31'**\n",
    "\n",
    "There are three reports already created in the tables:\n",
    "\n",
    "- monthly_transaction_report\n",
    "- monthly_product_report\n",
    "- monthly_agent_report\n",
    "\n",
    "We should take the \"new\" transactions and create a report from them and append to the tables above. The report for each month must have the same columns as SQL tables mentioned above.\n",
    "\n",
    "This process could obviously be done in SQL procedure as well and it even might be the best option in some cases. However, doing this in Python offers numerous advantages:\n",
    "\n",
    "- The report can be exported easily to CSV or Excel files\n",
    "- Python works as a simple connector to any other database running anywhere\n",
    "- It's very easy to create Python scripts that are scheduled to run on a regular basis.\n"
   ]
  },
  {
   "cell_type": "markdown",
   "metadata": {},
   "source": [
    "## Task III.a: Monthly Transaction Report"
   ]
  },
  {
   "cell_type": "code",
   "execution_count": 16,
   "metadata": {},
   "outputs": [],
   "source": [
    "# Read in monthly transaction report template\n",
    "monthly_transaction_report = pd.read_sql(\"SELECT * FROM monthly_transaction_report\", con)\n",
    "\n",
    "# Filter out the last month of the report\n",
    "monthly_transaction_report = monthly_transaction_report[~monthly_transaction_report['month'].isin(last_month)]\n",
    "# monthly_transaction_report"
   ]
  },
  {
   "cell_type": "code",
   "execution_count": 17,
   "metadata": {},
   "outputs": [],
   "source": [
    "## Create Monthly Transaction Report for new months\n",
    "\n",
    "# Create aggregations\n",
    "monthly_transaction_report_new_months = transactions_to_clean_and_append.groupby(\"month_year\")\\\n",
    "                                                     .agg({'month_year' : ['count'],\n",
    "                                                           'Revenue' : ['sum', 'mean'],\n",
    "                                                           'Premium' : ['sum', 'mean'],\n",
    "                                                           'Commissionable Premium' : ['sum', 'mean'],\n",
    "                                                           'Total Commission' : ['sum', 'mean']})\n",
    "\n",
    "# Reset index so the months don't become row labels\n",
    "monthly_transaction_report_new_months = monthly_transaction_report_new_months.reset_index()\n",
    "\n",
    "\n",
    "# # Rename columns to match the template\n",
    "monthly_transaction_report_new_months.columns = ['month','trx_count',\n",
    "                                                 \"Revenue_sum\",\"Revenue_mean\",\n",
    "                                                 \"Premium_sum\",\"Premium_mean\",\n",
    "                                                 \"Commissionable Premium_sum\", \"Commissionable Premium_mean\", \n",
    "                                                 \"Total Commission_sum\", \"Total Commission_mean\"]"
   ]
  },
  {
   "cell_type": "code",
   "execution_count": 18,
   "metadata": {},
   "outputs": [
    {
     "data": {
      "text/html": [
       "<div>\n",
       "<style scoped>\n",
       "    .dataframe tbody tr th:only-of-type {\n",
       "        vertical-align: middle;\n",
       "    }\n",
       "\n",
       "    .dataframe tbody tr th {\n",
       "        vertical-align: top;\n",
       "    }\n",
       "\n",
       "    .dataframe thead th {\n",
       "        text-align: right;\n",
       "    }\n",
       "</style>\n",
       "<table border=\"1\" class=\"dataframe\">\n",
       "  <thead>\n",
       "    <tr style=\"text-align: right;\">\n",
       "      <th></th>\n",
       "      <th>month</th>\n",
       "      <th>trx_count</th>\n",
       "      <th>Revenue_sum</th>\n",
       "      <th>Revenue_mean</th>\n",
       "      <th>Premium_sum</th>\n",
       "      <th>Premium_mean</th>\n",
       "      <th>Commissionable Premium_sum</th>\n",
       "      <th>Commissionable Premium_mean</th>\n",
       "      <th>Total Commission_sum</th>\n",
       "      <th>Total Commission_mean</th>\n",
       "    </tr>\n",
       "  </thead>\n",
       "  <tbody>\n",
       "    <tr>\n",
       "      <th>0</th>\n",
       "      <td>2019-01</td>\n",
       "      <td>215</td>\n",
       "      <td>1712.99</td>\n",
       "      <td>7.967395</td>\n",
       "      <td>422087.77</td>\n",
       "      <td>1963.198930</td>\n",
       "      <td>87.77</td>\n",
       "      <td>21.9425</td>\n",
       "      <td>1712.99</td>\n",
       "      <td>7.967395</td>\n",
       "    </tr>\n",
       "    <tr>\n",
       "      <th>1</th>\n",
       "      <td>2019-02</td>\n",
       "      <td>7</td>\n",
       "      <td>48.54</td>\n",
       "      <td>6.934286</td>\n",
       "      <td>10068.99</td>\n",
       "      <td>1438.427143</td>\n",
       "      <td>68.99</td>\n",
       "      <td>34.4950</td>\n",
       "      <td>48.54</td>\n",
       "      <td>6.934286</td>\n",
       "    </tr>\n",
       "    <tr>\n",
       "      <th>2</th>\n",
       "      <td>2019-03</td>\n",
       "      <td>18</td>\n",
       "      <td>138.10</td>\n",
       "      <td>7.672222</td>\n",
       "      <td>28214.90</td>\n",
       "      <td>1567.494444</td>\n",
       "      <td>214.90</td>\n",
       "      <td>53.7250</td>\n",
       "      <td>138.10</td>\n",
       "      <td>7.672222</td>\n",
       "    </tr>\n",
       "  </tbody>\n",
       "</table>\n",
       "</div>"
      ],
      "text/plain": [
       "     month  trx_count  Revenue_sum  Revenue_mean  Premium_sum  Premium_mean  \\\n",
       "0  2019-01        215      1712.99      7.967395    422087.77   1963.198930   \n",
       "1  2019-02          7        48.54      6.934286     10068.99   1438.427143   \n",
       "2  2019-03         18       138.10      7.672222     28214.90   1567.494444   \n",
       "\n",
       "   Commissionable Premium_sum  Commissionable Premium_mean  \\\n",
       "0                       87.77                      21.9425   \n",
       "1                       68.99                      34.4950   \n",
       "2                      214.90                      53.7250   \n",
       "\n",
       "   Total Commission_sum  Total Commission_mean  \n",
       "0               1712.99               7.967395  \n",
       "1                 48.54               6.934286  \n",
       "2                138.10               7.672222  "
      ]
     },
     "execution_count": 18,
     "metadata": {},
     "output_type": "execute_result"
    }
   ],
   "source": [
    "# Add new months to template\n",
    "frames_monthly_txn = [monthly_transaction_report, monthly_transaction_report_new_months]\n",
    "updated_monthly_txn_report = pd.concat(frames_monthly_txn)\n",
    "updated_monthly_txn_report.head(3)"
   ]
  },
  {
   "cell_type": "markdown",
   "metadata": {},
   "source": [
    "## Task III.b: Monthly Product Report"
   ]
  },
  {
   "cell_type": "code",
   "execution_count": 19,
   "metadata": {},
   "outputs": [],
   "source": [
    "# Read in monthly product report template\n",
    "monthly_product_report = pd.read_sql(\"SELECT * FROM monthly_product_report\", con)\n",
    "\n",
    "# Filter out the last month of the report\n",
    "monthly_product_report = monthly_product_report[~monthly_product_report['month'].isin(last_month)]\n",
    "\n",
    "# list(monthly_product_report[\"month\"].drop_duplicates().sort_values())\n",
    "# monthly_product_report.head(2)"
   ]
  },
  {
   "cell_type": "code",
   "execution_count": 20,
   "metadata": {},
   "outputs": [],
   "source": [
    "## Create Monthly Product Report for new months\n",
    "\n",
    "# Create aggregations\n",
    "monthly_product_report_new_months = transactions_to_clean_and_append.groupby([\"ProductName\",\"month_year\"])\\\n",
    "                                                     .agg({'month_year' : ['count'],\n",
    "                                                           'Revenue' : ['sum', 'mean'],\n",
    "                                                           'Premium' : ['sum', 'mean'],\n",
    "                                                           'Commissionable Premium' : ['sum', 'mean'],\n",
    "                                                           'Total Commission' : ['sum', 'mean']})\n",
    "# Reset index so the months don't become row labels\n",
    "monthly_product_report_new_months = monthly_product_report_new_months.reset_index()\n",
    "monthly_product_report_new_months\n",
    "\n",
    "# Rename columns to match the template\n",
    "monthly_product_report_new_months.columns = ['ProductName','month','trx_count',\n",
    "                                                 \"Revenue_sum\",\"Revenue_mean\",\n",
    "                                                 \"Premium_sum\",\"Premium_mean\",\n",
    "                                                 \"Commissionable Premium_sum\", \"Commissionable Premium_mean\", \n",
    "                                                 \"Total Commission_sum\", \"Total Commission_mean\"]\n",
    "\n",
    "# monthly_product_report_new_months.head(3)"
   ]
  },
  {
   "cell_type": "code",
   "execution_count": 21,
   "metadata": {},
   "outputs": [
    {
     "data": {
      "text/html": [
       "<div>\n",
       "<style scoped>\n",
       "    .dataframe tbody tr th:only-of-type {\n",
       "        vertical-align: middle;\n",
       "    }\n",
       "\n",
       "    .dataframe tbody tr th {\n",
       "        vertical-align: top;\n",
       "    }\n",
       "\n",
       "    .dataframe thead th {\n",
       "        text-align: right;\n",
       "    }\n",
       "</style>\n",
       "<table border=\"1\" class=\"dataframe\">\n",
       "  <thead>\n",
       "    <tr style=\"text-align: right;\">\n",
       "      <th></th>\n",
       "      <th>ProductName</th>\n",
       "      <th>month</th>\n",
       "      <th>trx_count</th>\n",
       "      <th>Revenue_sum</th>\n",
       "      <th>Revenue_mean</th>\n",
       "      <th>Premium_sum</th>\n",
       "      <th>Premium_mean</th>\n",
       "      <th>Commissionable Premium_sum</th>\n",
       "      <th>Commissionable Premium_mean</th>\n",
       "      <th>Total Commission_sum</th>\n",
       "      <th>Total Commission_mean</th>\n",
       "    </tr>\n",
       "  </thead>\n",
       "  <tbody>\n",
       "    <tr>\n",
       "      <th>13</th>\n",
       "      <td>DENTAL/VISION</td>\n",
       "      <td>2019-01</td>\n",
       "      <td>4</td>\n",
       "      <td>8.77</td>\n",
       "      <td>2.1925</td>\n",
       "      <td>87.77</td>\n",
       "      <td>21.9425</td>\n",
       "      <td>87.77</td>\n",
       "      <td>21.9425</td>\n",
       "      <td>8.77</td>\n",
       "      <td>2.1925</td>\n",
       "    </tr>\n",
       "    <tr>\n",
       "      <th>14</th>\n",
       "      <td>DENTAL/VISION</td>\n",
       "      <td>2019-02</td>\n",
       "      <td>2</td>\n",
       "      <td>6.89</td>\n",
       "      <td>3.4450</td>\n",
       "      <td>68.99</td>\n",
       "      <td>34.4950</td>\n",
       "      <td>68.99</td>\n",
       "      <td>34.4950</td>\n",
       "      <td>6.89</td>\n",
       "      <td>3.4450</td>\n",
       "    </tr>\n",
       "    <tr>\n",
       "      <th>15</th>\n",
       "      <td>DENTAL/VISION</td>\n",
       "      <td>2019-03</td>\n",
       "      <td>4</td>\n",
       "      <td>21.48</td>\n",
       "      <td>5.3700</td>\n",
       "      <td>214.90</td>\n",
       "      <td>53.7250</td>\n",
       "      <td>214.90</td>\n",
       "      <td>53.7250</td>\n",
       "      <td>21.48</td>\n",
       "      <td>5.3700</td>\n",
       "    </tr>\n",
       "  </tbody>\n",
       "</table>\n",
       "</div>"
      ],
      "text/plain": [
       "      ProductName    month  trx_count  Revenue_sum  Revenue_mean  Premium_sum  \\\n",
       "13  DENTAL/VISION  2019-01          4         8.77        2.1925        87.77   \n",
       "14  DENTAL/VISION  2019-02          2         6.89        3.4450        68.99   \n",
       "15  DENTAL/VISION  2019-03          4        21.48        5.3700       214.90   \n",
       "\n",
       "    Premium_mean  Commissionable Premium_sum  Commissionable Premium_mean  \\\n",
       "13       21.9425                       87.77                      21.9425   \n",
       "14       34.4950                       68.99                      34.4950   \n",
       "15       53.7250                      214.90                      53.7250   \n",
       "\n",
       "    Total Commission_sum  Total Commission_mean  \n",
       "13                  8.77                 2.1925  \n",
       "14                  6.89                 3.4450  \n",
       "15                 21.48                 5.3700  "
      ]
     },
     "execution_count": 21,
     "metadata": {},
     "output_type": "execute_result"
    }
   ],
   "source": [
    "# Add new months to template\n",
    "frames_prdt_txn = [monthly_product_report, monthly_product_report_new_months]\n",
    "updated_prdt_txn_report = pd.concat(frames_prdt_txn).sort_values([\"ProductName\",\"month\"])\n",
    "\n",
    "# Check a subset of values\n",
    "updated_prdt_txn_report[updated_prdt_txn_report[\"ProductName\"] == \"DENTAL/VISION\"].head(3)"
   ]
  },
  {
   "cell_type": "markdown",
   "metadata": {},
   "source": [
    "## Task III.c: Monthly Agent Report"
   ]
  },
  {
   "cell_type": "code",
   "execution_count": 22,
   "metadata": {},
   "outputs": [],
   "source": [
    "# Read in monthly agent report template\n",
    "monthly_agent_report = pd.read_sql(\"SELECT * FROM monthly_agent_report\", con)\n",
    "\n",
    "# Filter out the last month of the report\n",
    "monthly_agent_report = monthly_agent_report[~monthly_agent_report['month'].isin(last_month)]\n",
    "\n",
    "# print(list(monthly_agent_report[\"month\"].drop_duplicates().sort_values()))\n",
    "# monthly_agent_report.sort_values(\"month\").head(5)"
   ]
  },
  {
   "cell_type": "code",
   "execution_count": 23,
   "metadata": {},
   "outputs": [],
   "source": [
    "## Create Monthly Agent Report for new months\n",
    "\n",
    "# Create aggregations\n",
    "monthly_agent_report_new_months = transactions_to_clean_and_append.groupby([\"Agent Code\",\"month_year\"])\\\n",
    "                                                     .agg({'month_year' : ['count'],\n",
    "                                                           'Revenue' : ['sum', 'mean'],\n",
    "                                                           'Premium' : ['sum', 'mean'],\n",
    "                                                           'Commissionable Premium' : ['sum', 'mean'],\n",
    "                                                           'Total Commission' : ['sum', 'mean']})\n",
    "# Reset index so the months don't become row labels\n",
    "monthly_agent_report_new_months = monthly_agent_report_new_months.reset_index()\n",
    "monthly_agent_report_new_months\n",
    "\n",
    "# Rename columns to match the template\n",
    "monthly_agent_report_new_months.columns = ['Agent Code','month','trx_count',\n",
    "                                                 \"Revenue_sum\",\"Revenue_mean\",\n",
    "                                                 \"Premium_sum\",\"Premium_mean\",\n",
    "                                                 \"Commissionable Premium_sum\", \"Commissionable Premium_mean\", \n",
    "                                                 \"Total Commission_sum\", \"Total Commission_mean\"]\n",
    "\n",
    "# monthly_agent_report_new_months.head(3)"
   ]
  },
  {
   "cell_type": "code",
   "execution_count": 24,
   "metadata": {},
   "outputs": [
    {
     "data": {
      "text/html": [
       "<div>\n",
       "<style scoped>\n",
       "    .dataframe tbody tr th:only-of-type {\n",
       "        vertical-align: middle;\n",
       "    }\n",
       "\n",
       "    .dataframe tbody tr th {\n",
       "        vertical-align: top;\n",
       "    }\n",
       "\n",
       "    .dataframe thead th {\n",
       "        text-align: right;\n",
       "    }\n",
       "</style>\n",
       "<table border=\"1\" class=\"dataframe\">\n",
       "  <thead>\n",
       "    <tr style=\"text-align: right;\">\n",
       "      <th></th>\n",
       "      <th>Agent Code</th>\n",
       "      <th>month</th>\n",
       "      <th>trx_count</th>\n",
       "      <th>Revenue_sum</th>\n",
       "      <th>Revenue_mean</th>\n",
       "      <th>Premium_sum</th>\n",
       "      <th>Premium_mean</th>\n",
       "      <th>Commissionable Premium_sum</th>\n",
       "      <th>Commissionable Premium_mean</th>\n",
       "      <th>Total Commission_sum</th>\n",
       "      <th>Total Commission_mean</th>\n",
       "    </tr>\n",
       "  </thead>\n",
       "  <tbody>\n",
       "    <tr>\n",
       "      <th>2091</th>\n",
       "      <td>3236007</td>\n",
       "      <td>2019-01</td>\n",
       "      <td>5</td>\n",
       "      <td>41.65</td>\n",
       "      <td>8.330000</td>\n",
       "      <td>10000.0</td>\n",
       "      <td>2000.000000</td>\n",
       "      <td>0.0</td>\n",
       "      <td>NaN</td>\n",
       "      <td>41.65</td>\n",
       "      <td>8.330000</td>\n",
       "    </tr>\n",
       "    <tr>\n",
       "      <th>2092</th>\n",
       "      <td>3236007</td>\n",
       "      <td>2019-11</td>\n",
       "      <td>28</td>\n",
       "      <td>204.39</td>\n",
       "      <td>7.299643</td>\n",
       "      <td>43200.0</td>\n",
       "      <td>1542.857143</td>\n",
       "      <td>0.0</td>\n",
       "      <td>NaN</td>\n",
       "      <td>204.39</td>\n",
       "      <td>7.299643</td>\n",
       "    </tr>\n",
       "    <tr>\n",
       "      <th>9151</th>\n",
       "      <td>3236007</td>\n",
       "      <td>2019-12</td>\n",
       "      <td>24</td>\n",
       "      <td>272.98</td>\n",
       "      <td>11.374167</td>\n",
       "      <td>48000.0</td>\n",
       "      <td>2000.000000</td>\n",
       "      <td>0.0</td>\n",
       "      <td>NaN</td>\n",
       "      <td>272.98</td>\n",
       "      <td>11.374167</td>\n",
       "    </tr>\n",
       "  </tbody>\n",
       "</table>\n",
       "</div>"
      ],
      "text/plain": [
       "     Agent Code    month  trx_count  Revenue_sum  Revenue_mean  Premium_sum  \\\n",
       "2091    3236007  2019-01          5        41.65      8.330000      10000.0   \n",
       "2092    3236007  2019-11         28       204.39      7.299643      43200.0   \n",
       "9151    3236007  2019-12         24       272.98     11.374167      48000.0   \n",
       "\n",
       "      Premium_mean  Commissionable Premium_sum  Commissionable Premium_mean  \\\n",
       "2091   2000.000000                         0.0                          NaN   \n",
       "2092   1542.857143                         0.0                          NaN   \n",
       "9151   2000.000000                         0.0                          NaN   \n",
       "\n",
       "      Total Commission_sum  Total Commission_mean  \n",
       "2091                 41.65               8.330000  \n",
       "2092                204.39               7.299643  \n",
       "9151                272.98              11.374167  "
      ]
     },
     "execution_count": 24,
     "metadata": {},
     "output_type": "execute_result"
    }
   ],
   "source": [
    "# Add new months to template\n",
    "frames_agent_txn = [monthly_agent_report, monthly_agent_report_new_months]\n",
    "updated_agent_txn_report = pd.concat(frames_agent_txn).sort_values([\"Agent Code\",\"month\"])\n",
    "\n",
    "# Check a few rows\n",
    "updated_agent_txn_report[updated_agent_txn_report[\"Agent Code\"] == '3236007'].head(3)"
   ]
  },
  {
   "cell_type": "markdown",
   "metadata": {},
   "source": [
    "### Task IV: Automate reporting by scheduling Python script to run at specified times\n",
    "\n",
    "Schedule the run of **Task I - III** and simulate run from January to June 2020.\n",
    "\n",
    "- Schedule the process to run in 2-3 minutes so we can test if it starts automatically\n",
    "- We simulate the date by using datetime package in Python\n",
    "\n",
    "\n",
    "```python\n",
    "# code sample\n",
    "import datetime\n",
    "any_day = datetime.date(2020,3,1)\n",
    "print(any_day)\n",
    "today = datetime.date.today()\n",
    "print(today)\n",
    "```\n",
    "\n",
    "In this project, we will use the function **datetime.date(2020,3,1)** so we can run the script as it would run in March. In real life, we would replace it with **datetime.date.today()**\n",
    "\n",
    "We need to start by creating the function return_important_dates that returns the **first** and **last** day of the previous month.\n"
   ]
  },
  {
   "cell_type": "code",
   "execution_count": 25,
   "metadata": {},
   "outputs": [
    {
     "name": "stdout",
     "output_type": "stream",
     "text": [
      "2020-03-01\n",
      "2020-12-21\n"
     ]
    }
   ],
   "source": [
    "import datetime\n",
    "any_day = datetime.date(2020,3,1)\n",
    "print(any_day)\n",
    "today = datetime.date.today()\n",
    "print(today)"
   ]
  },
  {
   "cell_type": "code",
   "execution_count": 26,
   "metadata": {},
   "outputs": [],
   "source": [
    "def today_date(first_of_month):\n",
    "    \"\"\"\n",
    "    Create a function that pulls the first and last day of the previous month, and \n",
    "    create a date filter for filtering reports\n",
    "    \"\"\"\n",
    "    if first_of_month.month == 1:\n",
    "        year_interested = first_of_month.year - 1\n",
    "        month_interested = 12\n",
    "        day_start = 1\n",
    "        day_end = calendar.monthrange(year_interested,month_interested)[1]\n",
    "        \n",
    "        date_start = datetime.date(year_interested,month_interested,day_start)\n",
    "        date_end = datetime.date(year_interested,month_interested,day_end)\n",
    "    else:\n",
    "        year_interested = first_of_month.year\n",
    "        month_interested = (first_of_month.month - 1)\n",
    "        day_start = 1\n",
    "        day_end = calendar.monthrange(year_interested,month_interested)[1]\n",
    "\n",
    "        date_start = datetime.date(year_interested,month_interested,day_start)\n",
    "        date_end = datetime.date(year_interested,month_interested,day_end)\n",
    "    \n",
    "    # If the month length is <2, then add a leading 0 to month\n",
    "    if len(str(date_start.month)) > 1:\n",
    "        date_filter = str(date_start.year) + '-' + str(date_start.month)\n",
    "    else:\n",
    "        date_filter = str(date_start.year) + '-' + '0' + str(date_start.month)\n",
    "    \n",
    "    return date_start, date_end, date_filter"
   ]
  },
  {
   "cell_type": "code",
   "execution_count": 27,
   "metadata": {},
   "outputs": [
    {
     "name": "stdout",
     "output_type": "stream",
     "text": [
      "(datetime.date(2020, 1, 1), datetime.date(2020, 1, 31), '2020-01')\n"
     ]
    }
   ],
   "source": [
    "# Using function\n",
    "fn_return = today_date(datetime.date(2020,2,1))\n",
    "print(fn_return)"
   ]
  },
  {
   "cell_type": "code",
   "execution_count": 28,
   "metadata": {},
   "outputs": [],
   "source": [
    "# Create a list of all the months to run\n",
    "months_to_run = [datetime.date(2020,1,1),\n",
    "                 datetime.date(2020,2,1),\n",
    "                 datetime.date(2020,3,1),\n",
    "                 datetime.date(2020,4,1),\n",
    "                 datetime.date(2020,5,1),\n",
    "                 datetime.date(2020,6,1),\n",
    "                 datetime.date(2020,7,1)]"
   ]
  },
  {
   "cell_type": "code",
   "execution_count": 29,
   "metadata": {},
   "outputs": [],
   "source": [
    "def txn_report_generator():\n",
    "    starting_report_txn = monthly_transaction_report\n",
    "    for i in (months_to_run):\n",
    "        fn_return = today_date(i)\n",
    "        date_filter = fn_return[2]\n",
    "        \n",
    "        monthly_txn_report_additional_month = updated_monthly_txn_report[updated_monthly_txn_report[\"month\"] == date_filter]\n",
    "        month_txn = [starting_report_txn, monthly_txn_report_additional_month]\n",
    "        starting_report_txn = pd.concat(month_txn).sort_values([\"month\"])        \n",
    "        \n",
    "        print(date_filter)\n",
    "#     return starting_report.to_csv('mtr.csv')\n",
    "\n",
    "    starting_report_prod = monthly_product_report\n",
    "    for i in (months_to_run):\n",
    "        fn_return = today_date(i)\n",
    "        date_filter = fn_return[2]\n",
    "        \n",
    "        monthly_prod_report_additional_month = updated_prdt_txn_report[updated_prdt_txn_report[\"month\"] == date_filter]\n",
    "        month_txn = [starting_report_prod, monthly_prod_report_additional_month]\n",
    "        starting_report_prod = pd.concat(month_txn).sort_values([\"month\"])        \n",
    "        \n",
    "        print(date_filter)\n",
    "#     return starting_report.to_csv('ptr.csv')\n",
    "\n",
    "    starting_report_agent = monthly_agent_report\n",
    "    for i in (months_to_run):\n",
    "        fn_return = today_date(i)\n",
    "        date_filter = fn_return[2]\n",
    "        \n",
    "        monthly_agent_report_additional_month = updated_agent_txn_report[updated_agent_txn_report[\"month\"] == date_filter]\n",
    "        month_txn = [starting_report_agent, monthly_agent_report_additional_month]\n",
    "        starting_report_agent = pd.concat(month_txn).sort_values([\"month\"])        \n",
    "        \n",
    "        print(date_filter)\n",
    "    return starting_report_txn.to_csv('mtr.csv'), starting_report_prod.to_csv('ptr.csv'), starting_report_agent.to_csv('etr.csv')"
   ]
  },
  {
   "cell_type": "code",
   "execution_count": 30,
   "metadata": {},
   "outputs": [
    {
     "data": {
      "text/plain": [
       "Every 15 seconds do txn_report_generator() (last run: [never], next run: 2020-12-21 18:42:54)"
      ]
     },
     "execution_count": 30,
     "metadata": {},
     "output_type": "execute_result"
    }
   ],
   "source": [
    "schedule.every(15).seconds.do(txn_report_generator)"
   ]
  },
  {
   "cell_type": "code",
   "execution_count": 75,
   "metadata": {
    "scrolled": true
   },
   "outputs": [
    {
     "name": "stdout",
     "output_type": "stream",
     "text": [
      "2019-12\n",
      "2020-01\n",
      "2020-02\n",
      "2020-03\n",
      "2020-04\n",
      "2020-05\n",
      "2020-06\n",
      "2019-12\n",
      "2020-01\n",
      "2020-02\n",
      "2020-03\n",
      "2020-04\n",
      "2020-05\n",
      "2020-06\n",
      "2019-12\n",
      "2020-01\n",
      "2020-02\n",
      "2020-03\n",
      "2020-04\n",
      "2020-05\n",
      "2020-06\n"
     ]
    },
    {
     "ename": "KeyboardInterrupt",
     "evalue": "",
     "output_type": "error",
     "traceback": [
      "\u001b[1;31m---------------------------------------------------------------------------\u001b[0m",
      "\u001b[1;31mKeyboardInterrupt\u001b[0m                         Traceback (most recent call last)",
      "\u001b[1;32m<ipython-input-75-2d78333a8181>\u001b[0m in \u001b[0;36m<module>\u001b[1;34m\u001b[0m\n\u001b[0;32m      1\u001b[0m \u001b[1;32mwhile\u001b[0m \u001b[1;32mTrue\u001b[0m\u001b[1;33m:\u001b[0m\u001b[1;33m\u001b[0m\u001b[1;33m\u001b[0m\u001b[0m\n\u001b[0;32m      2\u001b[0m     \u001b[0mschedule\u001b[0m\u001b[1;33m.\u001b[0m\u001b[0mrun_pending\u001b[0m\u001b[1;33m(\u001b[0m\u001b[1;33m)\u001b[0m\u001b[1;33m\u001b[0m\u001b[1;33m\u001b[0m\u001b[0m\n\u001b[1;32m----> 3\u001b[1;33m     \u001b[0mtime\u001b[0m\u001b[1;33m.\u001b[0m\u001b[0msleep\u001b[0m\u001b[1;33m(\u001b[0m\u001b[1;36m1\u001b[0m\u001b[1;33m)\u001b[0m\u001b[1;33m\u001b[0m\u001b[1;33m\u001b[0m\u001b[0m\n\u001b[0m",
      "\u001b[1;31mKeyboardInterrupt\u001b[0m: "
     ]
    }
   ],
   "source": [
    "while True:\n",
    "    schedule.run_pending()\n",
    "    time.sleep(1)"
   ]
  },
  {
   "cell_type": "markdown",
   "metadata": {},
   "source": [
    " \n",
    "### Stretch: Task V\n",
    "\n",
    "Complete Tasks I, II, III using SQL only. Task IV remains the same in this Stretch Task.\n"
   ]
  },
  {
   "cell_type": "code",
   "execution_count": null,
   "metadata": {},
   "outputs": [],
   "source": []
  },
  {
   "cell_type": "code",
   "execution_count": null,
   "metadata": {},
   "outputs": [],
   "source": []
  },
  {
   "cell_type": "code",
   "execution_count": null,
   "metadata": {},
   "outputs": [],
   "source": []
  },
  {
   "cell_type": "code",
   "execution_count": null,
   "metadata": {},
   "outputs": [],
   "source": []
  },
  {
   "cell_type": "code",
   "execution_count": null,
   "metadata": {},
   "outputs": [],
   "source": []
  }
 ],
 "metadata": {
  "kernelspec": {
   "display_name": "Python 3",
   "language": "python",
   "name": "python3"
  },
  "language_info": {
   "codemirror_mode": {
    "name": "ipython",
    "version": 3
   },
   "file_extension": ".py",
   "mimetype": "text/x-python",
   "name": "python",
   "nbconvert_exporter": "python",
   "pygments_lexer": "ipython3",
   "version": "3.8.3"
  }
 },
 "nbformat": 4,
 "nbformat_minor": 4
}
